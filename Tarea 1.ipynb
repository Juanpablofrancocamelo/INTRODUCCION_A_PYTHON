{
 "cells": [
  {
   "cell_type": "markdown",
   "metadata": {},
   "source": [
    "1. HOLA MUNDO "
   ]
  },
  {
   "cell_type": "code",
   "execution_count": 2,
   "metadata": {},
   "outputs": [
    {
     "name": "stdout",
     "output_type": "stream",
     "text": [
      "!Hola Mundo!\n",
      "!Hola\n",
      "Mundo!\n"
     ]
    }
   ],
   "source": [
    "print(\"!Hola Mundo!\")\n",
    "print(\"!Hola\\nMundo!\")"
   ]
  },
  {
   "cell_type": "markdown",
   "metadata": {},
   "source": [
    "2. Operaciones aritméticas"
   ]
  },
  {
   "cell_type": "code",
   "execution_count": 6,
   "metadata": {},
   "outputs": [
    {
     "name": "stdout",
     "output_type": "stream",
     "text": [
      "3.5\n",
      "El año tiene 31536000 segundos\n"
     ]
    }
   ],
   "source": [
    "5*(2.5+3.1)/8\n",
    "a=5*(2.5+3.1)/8\n",
    "print(a)\n",
    "2**3\n",
    "b=(2**3+4**2)/3\n",
    "c=a**2+b**2\n",
    "s=365*24*3600\n",
    "print(\"El año tiene\",s,\"segundos\")"
   ]
  },
  {
   "cell_type": "markdown",
   "metadata": {},
   "source": [
    "3. Guardar texto en variables y unir texto "
   ]
  },
  {
   "cell_type": "code",
   "execution_count": 8,
   "metadata": {},
   "outputs": [
    {
     "name": "stdout",
     "output_type": "stream",
     "text": [
      "casa  amarilla\n",
      "Mi casa  amarilla\n"
     ]
    }
   ],
   "source": [
    "x=\"casa \"\n",
    "y=\"amarilla\"\n",
    "e=\" \"\n",
    "z=x+e+y\n",
    "print (z)\n",
    "print(\"Mi \"+z)\n"
   ]
  },
  {
   "cell_type": "markdown",
   "metadata": {},
   "source": [
    "4.   Ingreso de valores por teclado"
   ]
  },
  {
   "cell_type": "code",
   "execution_count": 10,
   "metadata": {},
   "outputs": [
    {
     "name": "stdout",
     "output_type": "stream",
     "text": [
      "2\n",
      "<class 'str'>\n",
      "<class 'float'>\n"
     ]
    }
   ],
   "source": [
    "x=input(\"Ingrese un número\")\n",
    "print(x)\n",
    "x=input(\"Ingrese un número\")\n",
    "print(type(x))\n",
    "x=float(input(\"Ingrese un número\"))\n",
    "print(type(x))"
   ]
  },
  {
   "cell_type": "markdown",
   "metadata": {},
   "source": [
    "5. Listas - Vectores "
   ]
  },
  {
   "cell_type": "code",
   "execution_count": 11,
   "metadata": {},
   "outputs": [
    {
     "name": "stdout",
     "output_type": "stream",
     "text": [
      "['a', 'b', 'c', 'd', 'e']\n",
      "['a', 'b', 'c', 'e']\n",
      "['a', 'b', 'c']\n",
      "['b', 'c']\n",
      "['b', 'c', 'h']\n"
     ]
    }
   ],
   "source": [
    "x=[\"a\",\"b\",\"c\",\"d\",\"e\"]\n",
    "print(x)\n",
    "x.pop(3)\n",
    "print(x)\n",
    "x.pop(-1)\n",
    "print(x)\n",
    "x.remove(\"a\")\n",
    "print(x)\n",
    "x.append(\"h\")\n",
    "print(x)"
   ]
  },
  {
   "cell_type": "markdown",
   "metadata": {},
   "source": [
    "6. Estructuras de control "
   ]
  },
  {
   "cell_type": "markdown",
   "metadata": {},
   "source": [
    "6.1 Ciclos for"
   ]
  },
  {
   "cell_type": "code",
   "execution_count": null,
   "metadata": {},
   "outputs": [],
   "source": [
    "for x in range (0,3):\n",
    "    print (x)\n",
    "for x in range (4,8):\n",
    "    print(\"Este es el paso número\",x)\n",
    "frutas=[\"manzana\",\"mango\",\"piña\"]\n",
    "for x in frutas:\n",
    "    print(\"Quiero comer\", x)\n",
    "for x in \"tamarindo\":\n",
    "    print(x)\n",
    "\n"
   ]
  },
  {
   "cell_type": "markdown",
   "metadata": {},
   "source": [
    "6.2 Ciclos if"
   ]
  },
  {
   "cell_type": "code",
   "execution_count": null,
   "metadata": {},
   "outputs": [],
   "source": [
    "#Igualdad a==b\n",
    "#Diferencia de variables a!=b\n",
    "# Menor o igual a<=b\n",
    "# Mayor o igual a>=b\n",
    "a=33\n",
    "b=200\n",
    "if b>a:\n",
    " print(\"b es mayor que a\")\n",
    "\n",
    "a=\"mama\"\n",
    "b=\"mama\"\n",
    "if a==b:\n",
    " print(\"a es igual que b\")\n",
    "\n",
    " a=\"papa\"\n",
    "b=\"papá\"\n",
    "if a!=b:\n",
    " print(\"a y b son diferentes\")\n",
    "\n",
    " a=33\n",
    " b=33\n",
    " if b>a:\n",
    "  print(\"b es mayor que a \")\n",
    "elif a==b:\n",
    "  print(\"a y b son iguales\")\n",
    "\n",
    "a=200\n",
    "b=33\n",
    "if b>a:\n",
    " print(\"b es mayor que a\")\n",
    "elif a==b:\n",
    " print(\"a y b son iguales\")\n",
    "else:\n",
    " print(\"a es mayor que b\")\n",
    "\n",
    "a=200\n",
    "b=33\n",
    "if b>a:\n",
    " print(\"b es mayor que a\")\n",
    "else:\n",
    " print(\"a es mayor que b\")"
   ]
  },
  {
   "cell_type": "markdown",
   "metadata": {},
   "source": [
    "6.3 Condicional while"
   ]
  },
  {
   "cell_type": "code",
   "execution_count": null,
   "metadata": {},
   "outputs": [],
   "source": [
    "i=1\n",
    "while i<6:\n",
    "    print(i)\n",
    "    i+=1\n",
    "i=1\n",
    "while i<6:\n",
    "    print(i)\n",
    "    i+=-1"
   ]
  },
  {
   "cell_type": "markdown",
   "metadata": {},
   "source": [
    "7. Combinación de estructuras de control"
   ]
  },
  {
   "cell_type": "code",
   "execution_count": null,
   "metadata": {},
   "outputs": [],
   "source": [
    "i=1\n",
    "while i<6:\n",
    "    print(i)\n",
    "    if i ==3:\n",
    "       break\n",
    "    i+=1\n",
    "\n",
    "i=1\n",
    "while i<6:\n",
    "    i+=1\n",
    "    if i==3:\n",
    "        continue\n",
    "    print(i)\n",
    "\n",
    "i=1\n",
    "while i<6:\n",
    "    print(i)\n",
    "    i+=1\n",
    "else:\n",
    "    print(\"i ya no es menor que 6\")\n",
    "\n",
    "for x in range (5,30,3):\n",
    "    print(x)\n",
    "\n",
    "for x in range (6):\n",
    "    print(x)\n",
    "else: \n",
    "    print(\"!Terminó!\")\n",
    "\n",
    "característica=[\"roja\",\"grande\",\"rica\"]\n",
    "fruta=[\"manzana\",\"uva\",\"fresa\"]\n",
    "for x in fruta:\n",
    "    for y in característica:\n",
    "        print(x,y)\n",
    "\n",
    "x=int(input(\"Ingrese un número\\n\"))\n",
    "y=int(input(\"Ingrese un número\\n\"))\n",
    "if x>y:\n",
    "    print(x,\"es mayor que\",y)\n",
    "else: \n",
    "    print(y,\"es mayor que\",x)\n",
    "\n",
    "for x in range(20):\n",
    "    if (x>4 and x<10):\n",
    "        print(x)\n",
    "\n",
    "for x in range (20):\n",
    "    if (x<4 and x>10):\n",
    "        print(x)"
   ]
  },
  {
   "cell_type": "markdown",
   "metadata": {},
   "source": [
    "8. Primeras gráficas"
   ]
  },
  {
   "cell_type": "code",
   "execution_count": null,
   "metadata": {},
   "outputs": [],
   "source": [
    "import matplotlib.pyplot as plt\n",
    "#Primera gráfica-azul\n",
    "plt.plot([1,2,3,4,5],[3,5,8,9,2])\n",
    "\n",
    "plt.plot([1,2,3,4,5],[3,5,8,9,2],\"bo\")#ro,go,co,ko,mo,wo,yo\n",
    "\n",
    "#import matplotlib.pyplot as plt\n",
    "#plt.plot?\n",
    "\n",
    "#Segunda gráfica-ROJA\n",
    "x=[1,2,3,4,5,6,7,8,9,10]\n",
    "y=[1,4,9,16,25,24,23,22,21,20]\n",
    "plt.plot(x,y)\n",
    "\n",
    "plt.plot(x,y,'--')\n",
    "plt.plot(x,y,linewidth=10.0)\n"
   ]
  }
 ],
 "metadata": {
  "kernelspec": {
   "display_name": "Python 3",
   "language": "python",
   "name": "python3"
  },
  "language_info": {
   "codemirror_mode": {
    "name": "ipython",
    "version": 3
   },
   "file_extension": ".py",
   "mimetype": "text/x-python",
   "name": "python",
   "nbconvert_exporter": "python",
   "pygments_lexer": "ipython3",
   "version": "3.12.5"
  }
 },
 "nbformat": 4,
 "nbformat_minor": 2
}
