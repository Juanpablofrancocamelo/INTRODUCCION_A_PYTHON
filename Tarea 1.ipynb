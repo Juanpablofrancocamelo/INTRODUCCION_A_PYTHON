{
 "cells": [
  {
   "cell_type": "markdown",
   "metadata": {},
   "source": [
    "1. HOLA MUNDO "
   ]
  },
  {
   "cell_type": "code",
   "execution_count": 2,
   "metadata": {},
   "outputs": [
    {
     "name": "stdout",
     "output_type": "stream",
     "text": [
      "!Hola Mundo!\n",
      "!Hola\n",
      "Mundo!\n"
     ]
    }
   ],
   "source": [
    "print(\"!Hola Mundo!\")\n",
    "print(\"!Hola\\nMundo!\")"
   ]
  },
  {
   "cell_type": "markdown",
   "metadata": {},
   "source": [
    "2. Operaciones aritméticas"
   ]
  },
  {
   "cell_type": "code",
   "execution_count": 6,
   "metadata": {},
   "outputs": [
    {
     "name": "stdout",
     "output_type": "stream",
     "text": [
      "3.5\n",
      "El año tiene 31536000 segundos\n"
     ]
    }
   ],
   "source": [
    "5*(2.5+3.1)/8\n",
    "a=5*(2.5+3.1)/8\n",
    "print(a)\n",
    "2**3\n",
    "b=(2**3+4**2)/3\n",
    "c=a**2+b**2\n",
    "s=365*24*3600\n",
    "print(\"El año tiene\",s,\"segundos\")"
   ]
  },
  {
   "cell_type": "markdown",
   "metadata": {},
   "source": [
    "3. Guardar texto en variables y unir texto "
   ]
  },
  {
   "cell_type": "code",
   "execution_count": 8,
   "metadata": {},
   "outputs": [
    {
     "name": "stdout",
     "output_type": "stream",
     "text": [
      "casa  amarilla\n",
      "Mi casa  amarilla\n"
     ]
    }
   ],
   "source": [
    "x=\"casa \"\n",
    "y=\"amarilla\"\n",
    "e=\" \"\n",
    "z=x+e+y\n",
    "print (z)\n",
    "print(\"Mi \"+z)\n"
   ]
  },
  {
   "cell_type": "markdown",
   "metadata": {},
   "source": [
    "4.   Ingreso de valores por teclado"
   ]
  },
  {
   "cell_type": "code",
   "execution_count": 10,
   "metadata": {},
   "outputs": [
    {
     "name": "stdout",
     "output_type": "stream",
     "text": [
      "2\n",
      "<class 'str'>\n",
      "<class 'float'>\n"
     ]
    }
   ],
   "source": [
    "x=input(\"Ingrese un número\")\n",
    "print(x)\n",
    "x=input(\"Ingrese un número\")\n",
    "print(type(x))\n",
    "x=float(input(\"Ingrese un número\"))\n",
    "print(type(x))"
   ]
  },
  {
   "cell_type": "markdown",
   "metadata": {},
   "source": [
    "5. Listas - Vectores "
   ]
  },
  {
   "cell_type": "code",
   "execution_count": 11,
   "metadata": {},
   "outputs": [
    {
     "name": "stdout",
     "output_type": "stream",
     "text": [
      "['a', 'b', 'c', 'd', 'e']\n",
      "['a', 'b', 'c', 'e']\n",
      "['a', 'b', 'c']\n",
      "['b', 'c']\n",
      "['b', 'c', 'h']\n"
     ]
    }
   ],
   "source": [
    "x=[\"a\",\"b\",\"c\",\"d\",\"e\"]\n",
    "print(x)\n",
    "x.pop(3)\n",
    "print(x)\n",
    "x.pop(-1)\n",
    "print(x)\n",
    "x.remove(\"a\")\n",
    "print(x)\n",
    "x.append(\"h\")\n",
    "print(x)"
   ]
  },
  {
   "cell_type": "markdown",
   "metadata": {},
   "source": [
    "6. Estructuras de control "
   ]
  },
  {
   "cell_type": "markdown",
   "metadata": {},
   "source": [
    "6.1 Ciclos for"
   ]
  },
  {
   "cell_type": "code",
   "execution_count": null,
   "metadata": {},
   "outputs": [],
   "source": [
    "for x in range (0,3):\n",
    "    print (x)\n",
    "for x in range (4,8):\n",
    "    print(\"Este es el paso número\",x)\n",
    "frutas=[\"manzana\",\"mango\",\"piña\"]\n",
    "for x in frutas:\n",
    "    print(\"Quiero comer\", x)\n",
    "for x in \"tamarindo\":\n",
    "    print(x)\n",
    "\n"
   ]
  },
  {
   "cell_type": "markdown",
   "metadata": {},
   "source": [
    "6.2 Ciclos if"
   ]
  },
  {
   "cell_type": "code",
   "execution_count": null,
   "metadata": {},
   "outputs": [],
   "source": [
    "#Igualdad a==b\n",
    "#Diferencia de variables a!=b\n",
    "# Menor o igual a<=b\n",
    "# Mayor o igual a>=b\n",
    "a=33\n",
    "b=200\n",
    "if b>a:\n",
    " print(\"b es mayor que a\")\n",
    "\n",
    "a=\"mama\"\n",
    "b=\"mama\"\n",
    "if a==b:\n",
    " print(\"a es igual que b\")\n",
    "\n",
    " a=\"papa\"\n",
    "b=\"papá\"\n",
    "if a!=b:\n",
    " print(\"a y b son diferentes\")\n",
    "\n",
    " a=33\n",
    " b=33\n",
    " if b>a:\n",
    "  print(\"b es mayor que a \")\n",
    "elif a==b:\n",
    "  print(\"a y b son iguales\")\n",
    "\n",
    "a=200\n",
    "b=33\n",
    "if b>a:\n",
    " print(\"b es mayor que a\")\n",
    "elif a==b:\n",
    " print(\"a y b son iguales\")\n",
    "else:\n",
    " print(\"a es mayor que b\")\n",
    "\n",
    "a=200\n",
    "b=33\n",
    "if b>a:\n",
    " print(\"b es mayor que a\")\n",
    "else:\n",
    " print(\"a es mayor que b\")"
   ]
  },
  {
   "cell_type": "markdown",
   "metadata": {},
   "source": [
    "6.3 Condicional while"
   ]
  },
  {
   "cell_type": "code",
   "execution_count": null,
   "metadata": {},
   "outputs": [],
   "source": [
    "i=1\n",
    "while i<6:\n",
    "    print(i)\n",
    "    i+=1\n",
    "i=1\n",
    "while i<6:\n",
    "    print(i)\n",
    "    i+=-1"
   ]
  },
  {
   "cell_type": "markdown",
   "metadata": {},
   "source": [
    "7. Combinación de estructuras de control"
   ]
  },
  {
   "cell_type": "code",
   "execution_count": null,
   "metadata": {},
   "outputs": [],
   "source": [
    "i=1\n",
    "while i<6:\n",
    "    print(i)\n",
    "    if i ==3:\n",
    "       break\n",
    "    i+=1\n",
    "\n",
    "i=1\n",
    "while i<6:\n",
    "    i+=1\n",
    "    if i==3:\n",
    "        continue\n",
    "    print(i)\n",
    "\n",
    "i=1\n",
    "while i<6:\n",
    "    print(i)\n",
    "    i+=1\n",
    "else:\n",
    "    print(\"i ya no es menor que 6\")\n",
    "\n",
    "for x in range (5,30,3):\n",
    "    print(x)\n",
    "\n",
    "for x in range (6):\n",
    "    print(x)\n",
    "else: \n",
    "    print(\"!Terminó!\")\n",
    "\n",
    "característica=[\"roja\",\"grande\",\"rica\"]\n",
    "fruta=[\"manzana\",\"uva\",\"fresa\"]\n",
    "for x in fruta:\n",
    "    for y in característica:\n",
    "        print(x,y)\n",
    "\n",
    "x=int(input(\"Ingrese un número\\n\"))\n",
    "y=int(input(\"Ingrese un número\\n\"))\n",
    "if x>y:\n",
    "    print(x,\"es mayor que\",y)\n",
    "else: \n",
    "    print(y,\"es mayor que\",x)\n",
    "\n",
    "for x in range(20):\n",
    "    if (x>4 and x<10):\n",
    "        print(x)\n",
    "\n",
    "for x in range (20):\n",
    "    if (x<4 and x>10):\n",
    "        print(x)"
   ]
  },
  {
   "cell_type": "markdown",
   "metadata": {},
   "source": [
    "8. Primeras gráficas"
   ]
  },
  {
   "cell_type": "code",
   "execution_count": null,
   "metadata": {},
   "outputs": [],
   "source": [
    "import matplotlib.pyplot as plt\n",
    "#Primera gráfica-azul\n",
    "plt.plot([1,2,3,4,5],[3,5,8,9,2])\n",
    "\n",
    "plt.plot([1,2,3,4,5],[3,5,8,9,2],\"bo\")#ro,go,co,ko,mo,wo,yo\n",
    "\n",
    "#import matplotlib.pyplot as plt\n",
    "#plt.plot?\n",
    "\n",
    "grupos=[\"Grupo a\"]"
   ]
  },
  {
   "cell_type": "code",
   "execution_count": null,
   "metadata": {},
   "outputs": [],
   "source": [
    "import matplotlib.pyplot as plt\n",
    "#Segunda gráfica-ROJA\n",
    "x=[1,2,3,4,5,6,7,8,9,10]\n",
    "y=[1,4,9,16,25,24,23,22,21,20]\n",
    "plt.plot(x,y)\n",
    "\n",
    "plt.plot(x,y,'--')\n",
    "plt.plot(x,y,linewidth=10.0)\n",
    "\n",
    "plt.plot(x,y)\n",
    "plt.ylabel(\"Eje vertical\")\n",
    "plt.xlabel(\"Eje horizontal\")\n",
    "plt.title(\"Titulo\")\n",
    "\n",
    "plt.scatter(x,y)\n",
    "plt.grid(True)\n"
   ]
  },
  {
   "cell_type": "code",
   "execution_count": null,
   "metadata": {},
   "outputs": [],
   "source": [
    "import matplotlib.pyplot as plt # grafica de barras\n",
    "\n",
    "grupos=[\"Grupo a\",\"Grupo b\" ,\"Grupo c\" , \"Grupo d\"]\n",
    "valores =[15,40,100,53]\n",
    "plt.bar(grupos, valores)"
   ]
  },
  {
   "cell_type": "code",
   "execution_count": null,
   "metadata": {},
   "outputs": [],
   "source": [
    "import matplotlib.pyplot as plt # grafica de barras\n",
    "\n",
    "plt.figure(figsize=(15,3))\n",
    "plt.subplot(131)\n",
    "plt.bar(grupos, valores)\n",
    "plt.subplot(132)\n",
    "plt.bar(grupos, valores)\n",
    "plt.subplot(133)\n",
    "plt.bar(grupos, valores)\n",
    "plt.suptitle(\"Varias gráficas\")"
   ]
  },
  {
   "cell_type": "markdown",
   "metadata": {},
   "source": [
    "Numpy"
   ]
  },
  {
   "cell_type": "code",
   "execution_count": 28,
   "metadata": {},
   "outputs": [
    {
     "name": "stdout",
     "output_type": "stream",
     "text": [
      "[]\n",
      "[0.60436521 0.64651294 0.74515106 0.33618742 0.42043794 0.61647358\n",
      " 0.01976147 0.83837015 0.51735482 0.29229937 0.53548578 0.43143828\n",
      " 0.64762112 0.61785972 0.65085276 0.95108793 0.25709164 0.69460284\n",
      " 0.0913059  0.32740756 0.39966207 0.31892718 0.36152081 0.60778923\n",
      " 0.99833667 0.30254119 0.55086633 0.52601852 0.88080506 0.86380603\n",
      " 0.96650228 0.86265519 0.53748702 0.85914248 0.97725933 0.40777616\n",
      " 0.56775577 0.75724033 0.80010722 0.80403912 0.32033739 0.51408056\n",
      " 0.99169117 0.87972971 0.13449004 0.46362496 0.18764732 0.32058388\n",
      " 0.06388744 0.54611009]\n",
      "[ 0.18538742 -0.88621702 -1.40976281 ...  0.80817483 -0.52723418\n",
      "  0.36455651]\n"
     ]
    },
    {
     "data": {
      "text/plain": [
       "[<matplotlib.lines.Line2D at 0x180146a0dd0>,\n",
       " <matplotlib.lines.Line2D at 0x180146a0e00>]"
      ]
     },
     "execution_count": 28,
     "metadata": {},
     "output_type": "execute_result"
    },
    {
     "data": {
      "image/png": "[encoded data removed]",
      "text/plain": [
       "<Figure size 640x480 with 1 Axes>"
      ]
     },
     "metadata": {},
     "output_type": "display_data"
    }
   ],
   "source": [
    "import numpy as np\n",
    "t=np.arange(0.5,0.1)\n",
    "plt.plot(t,t**2)\n",
    "print(t)\n",
    "\n",
    "plt.plot(t,t,\"r-\",t,t**2,\"bs\",t,t**3,\"g^\")\n",
    "\n",
    "x=np.random.rand(50)\n",
    "print(x)\n",
    "\n",
    "x=np.random.randn(2000)\n",
    "print(x)\n",
    "\n",
    "x=np.random.randint(10,20,50)\n",
    "plt.plot(x)\n",
    "\n",
    "t1=np.arange(0.2*np.pi,0.1)\n",
    "plt.plot(t1,np.sin(t1),t1,np.cos(t1))\n",
    "\n",
    "t1=np.arange(0.2*np.pi,0.1)\n",
    "t2=np.arange(0.2*np.pi,0.2)\n",
    "plt.plot(t1,np.cos(2*np.pi*t1)*np.exp(-t1),\"r\",t2,np.cos(2*np.pi*t2)*np.exp(-t2),\"bo\")"
   ]
  }
 ],
 "metadata": {
  "kernelspec": {
   "display_name": "Python 3",
   "language": "python",
   "name": "python3"
  },
  "language_info": {
   "codemirror_mode": {
    "name": "ipython",
    "version": 3
   },
   "file_extension": ".py",
   "mimetype": "text/x-python",
   "name": "python",
   "nbconvert_exporter": "python",
   "pygments_lexer": "ipython3",
   "version": "3.12.5"
  }
 },
 "nbformat": 4,
 "nbformat_minor": 2
}
